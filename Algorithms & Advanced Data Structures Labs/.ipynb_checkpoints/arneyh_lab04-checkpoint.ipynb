{
 "cells": [
  {
   "cell_type": "markdown",
   "id": "fc131244",
   "metadata": {},
   "source": [
    "# Hudson Arney\n",
    "## Lab 4 - Scapegoat Trees\n",
    "### CSC 3310 001 - Dr. Berisha\n",
    "\n",
    "### Introduction: \n",
    "In this lab I hope to\n",
    "\n",
    "\n"
   ]
  },
  {
   "cell_type": "markdown",
   "id": "3486275c",
   "metadata": {},
   "source": [
    "### 1a. How do scapegoat trees compare with Red-Black, AVL, and splay trees? Why might you prefer to use or not use a scapegoat tree?\n",
    "\n",
    "Scapegoat trees are a type of binary search tree that do not store any extra information at each node, unlike Red-Black or AVL trees. They achieve a worst-case search time of O(log n) by occasionally rebuilding subtrees that are too deep or unbalanced1. Splay trees are another type of binary search tree that do not store extra information, but they do not guarantee a logarithmic worst-case search time, and they require restructuring during searches2.\n",
    "\n",
    "**Some possible advantages of using scapegoat trees are:**\n",
    "\n",
    "- They are simple and practical to implement, and do not require complex rotations or color changes.\n",
    "- They have low storage overhead, since each node only contains a key and two pointers.\n",
    "- They have fast search performance, especially for search-intensive applications, since they do not incur any balancing overhead during searches.\n",
    "- They can be easily adapted to other tree-like data structures, such as k-d trees or quad trees, by using relaxed rebuilding routines.\n",
    "\n",
    "**Some possible disadvantages of using scapegoat trees are:**\n",
    "\n",
    "- They have slower insertion performance than Red-Black or splay trees, especially for sorted sequences, since they may trigger more rebuilds.\n",
    "- They have a trade-off between the value of alpha and the performance of different operations. A larger alpha may improve the search and delete times, but worsen the insert time.\n",
    "- They have a higher constant factor in the amortized update cost than Red-Black or splay trees, since - they need to find the scapegoat node and rebuild the subtree."
   ]
  },
  {
   "cell_type": "markdown",
   "id": "74da39d0",
   "metadata": {},
   "source": [
    "### 1b. What does it mean for a node to be weight balanced? What does it mean for a tree to be weight-balanced? Draw some examples and calculate their weight balances.\n",
    "\n",
    "\n",
    "In the context of Scapegoat Trees, a node is said to be α-weight-balanced if both of its child nodes satisfy the condition **size(child) ≤ α * size(node)**, where size(node) is the size of the subtree rooted at the node and α is a constant between 0.5 and 1.\n",
    "\n",
    "A tree is α-weight-balanced if all the nodes in it are α-weight-balanced. Intuitively, a tree is α-weight-balanced if, for any subtree, the sizes of its left and right subtree are approximately equal."
   ]
  },
  {
   "cell_type": "markdown",
   "id": "47341366",
   "metadata": {},
   "source": [
    "### 1c. What is the interpretation of the α parameter?\n",
    "\n",
    "\n",
    "A"
   ]
  },
  {
   "cell_type": "markdown",
   "id": "47aabab3",
   "metadata": {},
   "source": [
    "### 1d. What are the conditions for triggering a rebuild of a subtree (during inserts) or the entire tree (during deletes)?\n",
    "\n",
    "\n",
    "A"
   ]
  },
  {
   "cell_type": "markdown",
   "id": "c2e91ac3",
   "metadata": {},
   "source": [
    "### 2. Implement a scapegoat tree that supports insert, size, delete, and contains operations."
   ]
  },
  {
   "cell_type": "code",
   "execution_count": 1,
   "id": "b240bbe8",
   "metadata": {},
   "outputs": [],
   "source": [
    "import unittest"
   ]
  },
  {
   "cell_type": "code",
   "execution_count": 2,
   "id": "39730473",
   "metadata": {},
   "outputs": [],
   "source": [
    "class Node:\n",
    "    def __init__(self, key):\n",
    "        self.key = key\n",
    "        self.left = None\n",
    "        self.right = None"
   ]
  },
  {
   "cell_type": "code",
   "execution_count": 3,
   "id": "45271ddb",
   "metadata": {},
   "outputs": [],
   "source": [
    "class ScapegoatTree:\n",
    "    def __init__(self, alpha):\n",
    "        self.root = None\n",
    "        self.size = 0\n",
    "        self.alpha = alpha\n",
    "        self.rebuild_count = 0\n",
    "\n",
    "    def size_of_subtree(self, node):\n",
    "        return 0 if node is None else 1 + self.size_of_subtree(node.left) + self.size_of_subtree(node.right)\n",
    "\n",
    "    def insert(self, key):\n",
    "        self.root = self._insert(self.root, key)\n",
    "        self.size += 1\n",
    "\n",
    "    def _insert(self, node, key):\n",
    "        if node is None:\n",
    "            return Node(key)\n",
    "\n",
    "        if key < node.key:\n",
    "            node.left = self._insert(node.left, key)\n",
    "        elif key > node.key:\n",
    "            node.right = self._insert(node.right, key)\n",
    "\n",
    "        if self._is_unbalanced(node):\n",
    "            self.rebuild_count += 1\n",
    "            return self._rebuild(node)\n",
    "\n",
    "        return node\n",
    "\n",
    "    def _is_unbalanced(self, node):\n",
    "        if node is None:\n",
    "            return False\n",
    "\n",
    "        size_left = self.size_of_subtree(node.left)\n",
    "        size_right = self.size_of_subtree(node.right)\n",
    "\n",
    "        return size_left > self.alpha * (size_left + size_right) or size_right > self.alpha * (size_left + size_right)\n",
    "\n",
    "    def _rebuild(self, node):\n",
    "        nodes = self._inorder_traversal(node)\n",
    "        return self._build_tree_from_sorted_nodes(nodes, 0, len(nodes) - 1)\n",
    "\n",
    "    def _inorder_traversal(self, node):\n",
    "        result = []\n",
    "        self._inorder_traversal_recursive(node, result)\n",
    "        return result\n",
    "\n",
    "    def _inorder_traversal_recursive(self, node, result):\n",
    "        if node is not None:\n",
    "            self._inorder_traversal_recursive(node.left, result)\n",
    "            result.append(node)\n",
    "            self._inorder_traversal_recursive(node.right, result)\n",
    "\n",
    "    def _build_tree_from_sorted_nodes(self, nodes, start, end):\n",
    "        if start > end:\n",
    "            return None\n",
    "\n",
    "        mid = (start + end) // 2\n",
    "        root = nodes[mid]\n",
    "        root.left = self._build_tree_from_sorted_nodes(nodes, start, mid - 1)\n",
    "        root.right = self._build_tree_from_sorted_nodes(nodes, mid + 1, end)\n",
    "\n",
    "        return root\n",
    "\n",
    "    def toList(self):\n",
    "        return [node.key for node in self._inorder_traversal(self.root)]\n",
    "\n",
    "    def size(self):\n",
    "        return self.size\n",
    "\n",
    "    def contains(self, key):\n",
    "        return self._contains(self.root, key)\n",
    "\n",
    "    def _contains(self, node, key):\n",
    "        if node is None:\n",
    "            return False\n",
    "\n",
    "        if key == node.key:\n",
    "            return True\n",
    "        elif key < node.key:\n",
    "            return self._contains(node.left, key)\n",
    "        else:\n",
    "            return self._contains(node.right, key)\n",
    "\n",
    "    def delete(self, key):\n",
    "        if self.contains(key):\n",
    "            self.root = self._delete(self.root, key)\n",
    "            self.size -= 1\n",
    "\n",
    "    def _delete(self, node, key):\n",
    "        if node is None:\n",
    "            return None\n",
    "\n",
    "        if key < node.key:\n",
    "            node.left = self._delete(node.left, key)\n",
    "        elif key > node.key:\n",
    "            node.right = self._delete(node.right, key)\n",
    "        else:\n",
    "            if node.left is None:\n",
    "                return node.right\n",
    "            elif node.right is None:\n",
    "                return node.left\n",
    "            else:\n",
    "                successor = self._get_min(node.right)\n",
    "                node.key = successor.key\n",
    "                node.right = self._delete(node.right, successor.key)\n",
    "\n",
    "        if self._is_unbalanced(node):\n",
    "            self.rebuild_count += 1\n",
    "            return self._rebuild(node)\n",
    "\n",
    "        return node\n",
    "\n",
    "    def _get_min(self, node):\n",
    "        while node.left is not None:\n",
    "            node = node.left\n",
    "        return node\n"
   ]
  },
  {
   "cell_type": "markdown",
   "id": "31558747",
   "metadata": {},
   "source": [
    "### 3. Write unit tests that involve the insert, remove, size, contains, and toList() operations."
   ]
  },
  {
   "cell_type": "code",
   "execution_count": 4,
   "id": "6b829c10",
   "metadata": {},
   "outputs": [],
   "source": [
    "class TestScapegoatTree(unittest.TestCase):\n",
    "    def test_insert_contains_size(self):\n",
    "        tree = ScapegoatTree(0.75)\n",
    "        keys = [3, 1, 5, 2, 4]\n",
    "\n",
    "        for key in keys:\n",
    "            tree.insert(key)\n",
    "\n",
    "        self.assertEqual(tree.size, len(keys))\n",
    "        for key in keys:\n",
    "            self.assertTrue(tree.contains(key))\n",
    "\n",
    "    def test_delete_contains_size(self):\n",
    "        tree = ScapegoatTree(0.75)\n",
    "        keys = [3, 1, 5, 2, 4]\n",
    "\n",
    "        for key in keys:\n",
    "            tree.insert(key)\n",
    "\n",
    "        tree.delete(2)\n",
    "        tree.delete(5)\n",
    "\n",
    "        self.assertEqual(tree.size, len(keys) - 2)\n",
    "        self.assertFalse(tree.contains(2))\n",
    "        self.assertFalse(tree.contains(5))\n",
    "\n",
    "    def test_toList(self):\n",
    "        tree = ScapegoatTree(0.75)\n",
    "        keys = [3, 1, 5, 2, 4]\n",
    "\n",
    "        for key in keys:\n",
    "            tree.insert(key)\n",
    "\n",
    "        sorted_keys = sorted(keys)\n",
    "        self.assertEqual(tree.toList(), sorted_keys)\n",
    "\n",
    "    def test_rebuild_count(self):\n",
    "        tree = ScapegoatTree(0.75)\n",
    "        keys = [3, 1, 5, 2, 4]\n",
    "\n",
    "        for key in keys:\n",
    "            tree.insert(key)\n",
    "\n",
    "        # Inserting the 6th element triggers a rebuild\n",
    "        tree.insert(6)\n",
    "        self.assertEqual(tree.rebuild_count, 1)\n",
    "\n",
    "        # Deleting an element triggers another rebuild\n",
    "        tree.delete(2)\n",
    "        self.assertEqual(tree.rebuild_count, 2)\n",
    "\n",
    "    def test_empty_tree(self):\n",
    "        tree = ScapegoatTree(0.75)\n",
    "\n",
    "        self.assertEqual(tree.size, 0)\n",
    "        self.assertFalse(tree.contains(1))\n",
    "        self.assertEqual(tree.toList(), [])\n"
   ]
  },
  {
   "cell_type": "code",
   "execution_count": 5,
   "id": "b8fdb3c4",
   "metadata": {},
   "outputs": [
    {
     "name": "stderr",
     "output_type": "stream",
     "text": [
      "E\n",
      "======================================================================\n",
      "ERROR: C:\\Users\\arneyh\\AppData\\Roaming\\jupyter\\runtime\\kernel-ae682027-f66f-425b-a387-fdd690663896 (unittest.loader._FailedTest.C:\\Users\\arneyh\\AppData\\Roaming\\jupyter\\runtime\\kernel-ae682027-f66f-425b-a387-fdd690663896)\n",
      "----------------------------------------------------------------------\n",
      "AttributeError: module '__main__' has no attribute 'C:\\Users\\arneyh\\AppData\\Roaming\\jupyter\\runtime\\kernel-ae682027-f66f-425b-a387-fdd690663896'\n",
      "\n",
      "----------------------------------------------------------------------\n",
      "Ran 1 test in 0.003s\n",
      "\n",
      "FAILED (errors=1)\n"
     ]
    },
    {
     "ename": "SystemExit",
     "evalue": "True",
     "output_type": "error",
     "traceback": [
      "An exception has occurred, use %tb to see the full traceback.\n",
      "\u001b[1;31mSystemExit\u001b[0m\u001b[1;31m:\u001b[0m True\n"
     ]
    },
    {
     "name": "stderr",
     "output_type": "stream",
     "text": [
      "C:\\Users\\arneyh\\AppData\\Local\\anaconda3\\Lib\\site-packages\\IPython\\core\\interactiveshell.py:3513: UserWarning: To exit: use 'exit', 'quit', or Ctrl-D.\n",
      "  warn(\"To exit: use 'exit', 'quit', or Ctrl-D.\", stacklevel=1)\n"
     ]
    }
   ],
   "source": [
    "if __name__ == '__main__':\n",
    "    unittest.main()\n"
   ]
  },
  {
   "cell_type": "markdown",
   "id": "976d7964",
   "metadata": {},
   "source": [
    "### 4. Benchmark the insert, delete, and contains operations of your implementation on data sets of different sizes. Create tables and plots that include both run times and the number of times the rebuild operation was performed."
   ]
  },
  {
   "cell_type": "code",
   "execution_count": null,
   "id": "cef81497",
   "metadata": {},
   "outputs": [],
   "source": []
  },
  {
   "cell_type": "markdown",
   "id": "490d0543",
   "metadata": {},
   "source": [
    "### 5. Analyze and interpret the benchmark results to determine if the run time of your implementation is consistent with the theoretical analysis.\n"
   ]
  },
  {
   "cell_type": "code",
   "execution_count": null,
   "id": "9d401be4",
   "metadata": {},
   "outputs": [],
   "source": []
  }
 ],
 "metadata": {
  "kernelspec": {
   "display_name": "Python 3 (ipykernel)",
   "language": "python",
   "name": "python3"
  },
  "language_info": {
   "codemirror_mode": {
    "name": "ipython",
    "version": 3
   },
   "file_extension": ".py",
   "mimetype": "text/x-python",
   "name": "python",
   "nbconvert_exporter": "python",
   "pygments_lexer": "ipython3",
   "version": "3.11.4"
  }
 },
 "nbformat": 4,
 "nbformat_minor": 5
}
