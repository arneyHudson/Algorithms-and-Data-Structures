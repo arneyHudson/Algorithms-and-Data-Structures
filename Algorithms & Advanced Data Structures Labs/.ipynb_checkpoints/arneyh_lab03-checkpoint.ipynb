{
 "cells": [
  {
   "cell_type": "markdown",
   "id": "f5e13ae3",
   "metadata": {},
   "source": [
    "# Hudson Arney\n",
    "# Lab 3 - Divide and Conquer\n",
    "## Algorithms and Advanced Data Structures - CSC 3310 001\n",
    "\n",
    "## Introduction:\n",
    "In this lab I will attempt to "
   ]
  },
  {
   "cell_type": "code",
   "execution_count": 1,
   "id": "3407c058",
   "metadata": {},
   "outputs": [],
   "source": [
    "import random\n",
    "import time\n",
    "import matplotlib.pyplot as plt"
   ]
  },
  {
   "cell_type": "code",
   "execution_count": 2,
   "id": "4ddb18ef",
   "metadata": {},
   "outputs": [],
   "source": [
    "def select_random_pivot(numbers):\n",
    "    return random.choice(numbers)"
   ]
  },
  {
   "cell_type": "code",
   "execution_count": 3,
   "id": "8cc2c5fd",
   "metadata": {},
   "outputs": [],
   "source": [
    "def partition(numbers, pivot):\n",
    "    left_partition = [x for x in numbers if x < pivot]\n",
    "    right_partition = [x for x in numbers if x > pivot]\n",
    "    return left_partition, right_partition"
   ]
  },
  {
   "cell_type": "code",
   "execution_count": 4,
   "id": "b5a1aa0f",
   "metadata": {},
   "outputs": [],
   "source": [
    "def select_kth_smallest(numbers, k):\n",
    "    if len(numbers) == 0:\n",
    "        raise ValueError(\"Input list is empty\")\n",
    "    if k < 1 or k > len(numbers):\n",
    "        raise ValueError(\"Invalid value of k\")\n",
    "    if len(numbers) == 1:\n",
    "        return numbers[0]\n",
    "    \n",
    "    pivot = select_random_pivot(numbers)\n",
    "    left_partition, right_partition = partition(numbers, pivot)\n",
    "    j = len(left_partition) + 1\n",
    "\n",
    "    if k == j:\n",
    "        return pivot\n",
    "    elif k < j:\n",
    "        return select_kth_smallest(left_partition, k)\n",
    "    else:\n",
    "        return select_kth_smallest(right_partition, k - j)"
   ]
  },
  {
   "cell_type": "code",
   "execution_count": 5,
   "id": "06968471",
   "metadata": {},
   "outputs": [],
   "source": [
    "def select_kth_smallest_sort(numbers, k):\n",
    "    sorted_numbers = sorted(numbers)\n",
    "    return sorted_numbers[k - 1]"
   ]
  },
  {
   "cell_type": "code",
   "execution_count": 6,
   "id": "a19bb534",
   "metadata": {},
   "outputs": [
    {
     "name": "stdout",
     "output_type": "stream",
     "text": [
      "4\n"
     ]
    }
   ],
   "source": [
    "sample_numbers = [5, 1, 6, 7, 3, 4, 8]\n",
    "k = 3\n",
    "\n",
    "result = select_kth_smallest(sample_numbers, k)\n",
    "print(result)"
   ]
  },
  {
   "cell_type": "code",
   "execution_count": 7,
   "id": "b777066c",
   "metadata": {},
   "outputs": [],
   "source": [
    "input_sizes = [10, 100, 1000, 10000, 100000]\n",
    "repeat = 100\n",
    "\n",
    "results_divide_conquer = []\n",
    "results_sorting = []\n",
    "divide_conquer_time = 0\n",
    "sorting_time = 0"
   ]
  },
  {
   "cell_type": "code",
   "execution_count": 15,
   "id": "eef179b3",
   "metadata": {},
   "outputs": [
    {
     "name": "stdout",
     "output_type": "stream",
     "text": [
      "Error for size 10, k = 5: Input list is empty\n",
      "Error for size 10, k = 5: Invalid value of k\n",
      "Error for size 100, k = 50: Input list is empty\n",
      "Error for size 100, k = 50: Input list is empty\n",
      "Error for size 100, k = 50: Invalid value of k\n",
      "Error for size 100, k = 50: Invalid value of k\n",
      "Error for size 1000, k = 500: Invalid value of k\n",
      "Error for size 1000, k = 500: Input list is empty\n",
      "Error for size 1000, k = 500: Invalid value of k\n",
      "Error for size 1000, k = 500: Invalid value of k\n",
      "Error for size 1000, k = 500: Invalid value of k\n",
      "Error for size 1000, k = 500: Invalid value of k\n",
      "Error for size 1000, k = 500: Invalid value of k\n",
      "Error for size 1000, k = 500: Invalid value of k\n",
      "Error for size 1000, k = 500: Invalid value of k\n",
      "Error for size 1000, k = 500: Invalid value of k\n",
      "Error for size 10000, k = 5000: Input list is empty\n",
      "Error for size 10000, k = 5000: Invalid value of k\n",
      "Error for size 10000, k = 5000: Invalid value of k\n",
      "Error for size 10000, k = 5000: Invalid value of k\n",
      "Error for size 10000, k = 5000: Input list is empty\n",
      "Error for size 100000, k = 50000: Invalid value of k\n",
      "Error for size 100000, k = 50000: Invalid value of k\n",
      "Error for size 100000, k = 50000: Invalid value of k\n",
      "Error for size 100000, k = 50000: Input list is empty\n",
      "Error for size 100000, k = 50000: Invalid value of k\n",
      "Error for size 100000, k = 50000: Input list is empty\n",
      "Error for size 100000, k = 50000: Input list is empty\n",
      "Error for size 100000, k = 50000: Input list is empty\n"
     ]
    }
   ],
   "source": [
    "for size in input_sizes:\n",
    "    divide_conquer_time = 0\n",
    "    sorting_time = 0\n",
    "\n",
    "    for x in range(repeat):\n",
    "        numbers = [random.randint(1, size * 10) for x in range(size)]\n",
    "        k = size // 2  \n",
    "\n",
    "        try:\n",
    "            start_time = time.time()\n",
    "            select_kth_smallest(numbers, k)\n",
    "            end_time = time.time()\n",
    "            divide_conquer_time += end_time - start_time\n",
    "\n",
    "            start_time = time.time()\n",
    "            select_kth_smallest_sort(numbers, k)\n",
    "            end_time = time.time()\n",
    "            sorting_time += end_time - start_time\n",
    "        except ValueError as e:\n",
    "            print(f\"Error for size {size}, k = {k}: {str(e)}\")"
   ]
  },
  {
   "cell_type": "code",
   "execution_count": null,
   "id": "afb2b384",
   "metadata": {},
   "outputs": [],
   "source": [
    "plt.figure(figsize=(10, 6))\n",
    "plt.plot(input_sizes, results_divide_conquer, label=\"Divide and Conquer\")\n",
    "plt.plot(input_sizes, results_sorting, label=\"Sorting-based\")\n",
    "plt.xlabel(\"Input Size\")\n",
    "plt.ylabel(\"Execution Time (seconds)\")\n",
    "plt.title(\"Benchmarking Divide and Conquer vs. Sorting-based Selection\")\n",
    "plt.legend()\n",
    "plt.grid(True)\n",
    "plt.show()"
   ]
  },
  {
   "cell_type": "markdown",
   "id": "d4f39966",
   "metadata": {},
   "source": [
    "### Conclusion:\n"
   ]
  }
 ],
 "metadata": {
  "kernelspec": {
   "display_name": "Python 3 (ipykernel)",
   "language": "python",
   "name": "python3"
  },
  "language_info": {
   "codemirror_mode": {
    "name": "ipython",
    "version": 3
   },
   "file_extension": ".py",
   "mimetype": "text/x-python",
   "name": "python",
   "nbconvert_exporter": "python",
   "pygments_lexer": "ipython3",
   "version": "3.11.4"
  }
 },
 "nbformat": 4,
 "nbformat_minor": 5
}
